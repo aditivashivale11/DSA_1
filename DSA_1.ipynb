{
  "nbformat": 4,
  "nbformat_minor": 0,
  "metadata": {
    "colab": {
      "provenance": [],
      "authorship_tag": "ABX9TyNUA0iERsN3OyGWonhmeocJ",
      "include_colab_link": true
    },
    "kernelspec": {
      "name": "python3",
      "display_name": "Python 3"
    },
    "language_info": {
      "name": "python"
    }
  },
  "cells": [
    {
      "cell_type": "markdown",
      "metadata": {
        "id": "view-in-github",
        "colab_type": "text"
      },
      "source": [
        "<a href=\"https://colab.research.google.com/github/aditivashivale11/DSA_1/blob/main/DSA_1.ipynb\" target=\"_parent\"><img src=\"https://colab.research.google.com/assets/colab-badge.svg\" alt=\"Open In Colab\"/></a>"
      ]
    },
    {
      "cell_type": "code",
      "execution_count": 1,
      "metadata": {
        "id": "OLEeRWvrKIjC"
      },
      "outputs": [],
      "source": [
        "import math"
      ]
    },
    {
      "cell_type": "code",
      "source": [
        "math.sqrt(49)"
      ],
      "metadata": {
        "colab": {
          "base_uri": "https://localhost:8080/"
        },
        "id": "viM0EwjlKMGv",
        "outputId": "c012ca9b-5d93-4780-efa1-4f78d0f921e9"
      },
      "execution_count": 2,
      "outputs": [
        {
          "output_type": "execute_result",
          "data": {
            "text/plain": [
              "7.0"
            ]
          },
          "metadata": {},
          "execution_count": 2
        }
      ]
    },
    {
      "cell_type": "code",
      "source": [
        "def locate_card(cards, query):\n",
        "    pass"
      ],
      "metadata": {
        "id": "eIKw1QuYKRoV"
      },
      "execution_count": 3,
      "outputs": []
    },
    {
      "cell_type": "code",
      "source": [
        "cards = [13,11,10,7,4,3,1,0]\n",
        "query = 7\n",
        "output = 3"
      ],
      "metadata": {
        "id": "c2He_aXTT0-J"
      },
      "execution_count": 4,
      "outputs": []
    },
    {
      "cell_type": "code",
      "source": [
        "result = locate_card(cards, query)\n",
        "print(result)"
      ],
      "metadata": {
        "colab": {
          "base_uri": "https://localhost:8080/"
        },
        "id": "Y1YqWkqKUB5n",
        "outputId": "69092f30-af44-4768-e07e-a1994655c963"
      },
      "execution_count": 5,
      "outputs": [
        {
          "output_type": "stream",
          "name": "stdout",
          "text": [
            "None\n"
          ]
        }
      ]
    },
    {
      "cell_type": "code",
      "source": [
        "result == output"
      ],
      "metadata": {
        "colab": {
          "base_uri": "https://localhost:8080/"
        },
        "id": "afEISqVGUL-M",
        "outputId": "41c8ecac-80da-4027-9813-1154aceb055f"
      },
      "execution_count": 6,
      "outputs": [
        {
          "output_type": "execute_result",
          "data": {
            "text/plain": [
              "False"
            ]
          },
          "metadata": {},
          "execution_count": 6
        }
      ]
    },
    {
      "cell_type": "code",
      "source": [
        "test = {\n",
        "    'input' : {\n",
        "        'cards' : [13, 11, 10, 7, 4, 3, 1, 0],\n",
        "        'query' : 7\n",
        "    },\n",
        "    'output' : 3\n",
        "}"
      ],
      "metadata": {
        "id": "mVt6H-lTUPDM"
      },
      "execution_count": 7,
      "outputs": []
    },
    {
      "cell_type": "code",
      "source": [
        "locate_card(**test['input'])==test['output']"
      ],
      "metadata": {
        "colab": {
          "base_uri": "https://localhost:8080/"
        },
        "id": "eSYd8L1gUv03",
        "outputId": "6d707ee4-775b-4380-a191-44f8b7c4a852"
      },
      "execution_count": 8,
      "outputs": [
        {
          "output_type": "execute_result",
          "data": {
            "text/plain": [
              "False"
            ]
          },
          "metadata": {},
          "execution_count": 8
        }
      ]
    },
    {
      "cell_type": "code",
      "source": [
        "tests = []"
      ],
      "metadata": {
        "id": "aHmcoLknU6Ke"
      },
      "execution_count": 9,
      "outputs": []
    },
    {
      "cell_type": "code",
      "source": [
        "#query occurs in the middle\n",
        "tests.append(test)\n",
        "\n",
        "tests.append({\n",
        "    'input' : {\n",
        "        'cards' : [13, 11, 10, 7, 4, 3, 1, 0],\n",
        "        'query' : 1\n",
        "    },\n",
        "    'output' : 6\n",
        "})"
      ],
      "metadata": {
        "id": "D6KV_fGtU_nG"
      },
      "execution_count": 10,
      "outputs": []
    },
    {
      "cell_type": "code",
      "source": [
        "# query is the first element\n",
        "tests.append({\n",
        "    'input' : {\n",
        "      'cards' : [4, 2, 1, -1],\n",
        "      'query' : 4\n",
        "    },\n",
        "    'output' : 0\n",
        "\n",
        "})"
      ],
      "metadata": {
        "id": "OhwXa1AZVbZW"
      },
      "execution_count": 11,
      "outputs": []
    },
    {
      "cell_type": "code",
      "source": [
        "# query is the last element\n",
        "tests.append({\n",
        "    'input' : {\n",
        "        'cards' : [3, -1, -9, -127],\n",
        "        'query' : -127\n",
        "    },\n",
        "    'output' : 3\n",
        "})"
      ],
      "metadata": {
        "id": "NbBi1uXgWK3F"
      },
      "execution_count": 12,
      "outputs": []
    },
    {
      "cell_type": "code",
      "source": [
        "# Cards contains just one element, query\n",
        "tests.append({\n",
        "    'input' : {\n",
        "        'cards' : [6],\n",
        "        'query' : 6\n",
        "    },\n",
        "    'output' : 0\n",
        "})"
      ],
      "metadata": {
        "id": "KiF2frYNWuJQ"
      },
      "execution_count": 13,
      "outputs": []
    },
    {
      "cell_type": "code",
      "source": [
        "# cards does not contain query\n",
        "tests.append({\n",
        "    'input' : {\n",
        "        'cards' : [9, 7, 5, 2, -9],\n",
        "        'query' : 4\n",
        "    },\n",
        "    'output' : -1\n",
        "})"
      ],
      "metadata": {
        "id": "fQwVCd-nXDR8"
      },
      "execution_count": 14,
      "outputs": []
    },
    {
      "cell_type": "code",
      "source": [
        "# Cards is empty\n",
        "tests.append({\n",
        "    'input' : {\n",
        "        'cards' : [],\n",
        "        'query' : 7\n",
        "    },\n",
        "    'output' : -1\n",
        "})"
      ],
      "metadata": {
        "id": "qgKC4R-cXv6S"
      },
      "execution_count": 15,
      "outputs": []
    },
    {
      "cell_type": "code",
      "source": [
        "# numbers can repeat in cards\n",
        "tests.append({\n",
        "    'input': {\n",
        "        'cards': [8, 8, 6, 6, 6, 6, 6, 3, 2, 2, 2, 0, 0, 0],\n",
        "        'query': 3\n",
        "    },\n",
        "    'output': 7\n",
        "})"
      ],
      "metadata": {
        "id": "aiMIu3wRYGhh"
      },
      "execution_count": 16,
      "outputs": []
    },
    {
      "cell_type": "code",
      "source": [
        "# query occurs multiple times\n",
        "tests.append({\n",
        "    'input': {\n",
        "        'cards': [8, 8, 6, 6, 6, 6, 6, 6, 3, 2, 2, 2, 0, 0, 0],\n",
        "        'query': 6\n",
        "    },\n",
        "    'output': 2\n",
        "})"
      ],
      "metadata": {
        "id": "I3b5wC2wYNYC"
      },
      "execution_count": 17,
      "outputs": []
    },
    {
      "cell_type": "code",
      "source": [
        "tests"
      ],
      "metadata": {
        "colab": {
          "base_uri": "https://localhost:8080/"
        },
        "id": "YwaUplB8YUoW",
        "outputId": "eb07aab5-d570-432b-9659-ca58a31b1053"
      },
      "execution_count": 18,
      "outputs": [
        {
          "output_type": "execute_result",
          "data": {
            "text/plain": [
              "[{'input': {'cards': [13, 11, 10, 7, 4, 3, 1, 0], 'query': 7}, 'output': 3},\n",
              " {'input': {'cards': [13, 11, 10, 7, 4, 3, 1, 0], 'query': 1}, 'output': 6},\n",
              " {'input': {'cards': [4, 2, 1, -1], 'query': 4}, 'output': 0},\n",
              " {'input': {'cards': [3, -1, -9, -127], 'query': -127}, 'output': 3},\n",
              " {'input': {'cards': [6], 'query': 6}, 'output': 0},\n",
              " {'input': {'cards': [9, 7, 5, 2, -9], 'query': 4}, 'output': -1},\n",
              " {'input': {'cards': [], 'query': 7}, 'output': -1},\n",
              " {'input': {'cards': [8, 8, 6, 6, 6, 6, 6, 3, 2, 2, 2, 0, 0, 0], 'query': 3},\n",
              "  'output': 7},\n",
              " {'input': {'cards': [8, 8, 6, 6, 6, 6, 6, 6, 3, 2, 2, 2, 0, 0, 0],\n",
              "   'query': 6},\n",
              "  'output': 2}]"
            ]
          },
          "metadata": {},
          "execution_count": 18
        }
      ]
    },
    {
      "cell_type": "code",
      "source": [
        "def locate_card(cards, query):\n",
        " # Create a variable position with the value 0\n",
        "    position = 0\n",
        "\n",
        "    # Set up loop for repetition\n",
        "    while True:\n",
        "       # Check if element at the current position matche the query\n",
        "        if cards[position] == query:\n",
        "          # Answer found! Return and exit..\n",
        "              return position\n",
        "\n",
        "        # Increment the position\n",
        "        position += 1\n",
        "        # Check if we have reached the end of the list\n",
        "        if position == len(cards):\n",
        "\n",
        "          # Number not found, return -1\n",
        "          return -1"
      ],
      "metadata": {
        "id": "62e_aHt_YWnv"
      },
      "execution_count": 19,
      "outputs": []
    },
    {
      "cell_type": "code",
      "source": [
        "test"
      ],
      "metadata": {
        "colab": {
          "base_uri": "https://localhost:8080/"
        },
        "id": "3CkZy2tfFgfN",
        "outputId": "cbbfc29c-0358-4d10-d8d8-7e5b2ec88ec2"
      },
      "execution_count": 20,
      "outputs": [
        {
          "output_type": "execute_result",
          "data": {
            "text/plain": [
              "{'input': {'cards': [13, 11, 10, 7, 4, 3, 1, 0], 'query': 7}, 'output': 3}"
            ]
          },
          "metadata": {},
          "execution_count": 20
        }
      ]
    },
    {
      "cell_type": "code",
      "source": [
        "result = locate_card(test['input']['cards'], test['input']['query'])\n",
        "result"
      ],
      "metadata": {
        "colab": {
          "base_uri": "https://localhost:8080/"
        },
        "id": "kkkd_aKTGCHQ",
        "outputId": "d6058edd-c1ef-40dd-a935-ea3adec723e6"
      },
      "execution_count": 21,
      "outputs": [
        {
          "output_type": "execute_result",
          "data": {
            "text/plain": [
              "3"
            ]
          },
          "metadata": {},
          "execution_count": 21
        }
      ]
    },
    {
      "cell_type": "code",
      "source": [
        "result == output"
      ],
      "metadata": {
        "colab": {
          "base_uri": "https://localhost:8080/"
        },
        "id": "aCT63FPsGbUU",
        "outputId": "15ef8c4b-30f0-4e0b-b717-5e3506d344d4"
      },
      "execution_count": 22,
      "outputs": [
        {
          "output_type": "execute_result",
          "data": {
            "text/plain": [
              "True"
            ]
          },
          "metadata": {},
          "execution_count": 22
        }
      ]
    },
    {
      "cell_type": "code",
      "source": [
        "!pip install jovian --upgrade --quiet"
      ],
      "metadata": {
        "colab": {
          "base_uri": "https://localhost:8080/"
        },
        "id": "v4Ht-OwVHUvE",
        "outputId": "1a526941-1a93-4f95-93cc-fbc18e7d4db2"
      },
      "execution_count": 23,
      "outputs": [
        {
          "output_type": "stream",
          "name": "stdout",
          "text": [
            "\u001b[?25l     \u001b[90m━━━━━━━━━━━━━━━━━━━━━━━━━━━━━━━━━━━━━━━━\u001b[0m \u001b[32m0.0/68.6 kB\u001b[0m \u001b[31m?\u001b[0m eta \u001b[36m-:--:--\u001b[0m\r\u001b[2K     \u001b[91m━━━━━━━━━━━━━━━━━\u001b[0m\u001b[91m╸\u001b[0m\u001b[90m━━━━━━━━━━━━━━━━━━━━━━\u001b[0m \u001b[32m30.7/68.6 kB\u001b[0m \u001b[31m840.8 kB/s\u001b[0m eta \u001b[36m0:00:01\u001b[0m\r\u001b[2K     \u001b[91m━━━━━━━━━━━━━━━━━━━━━━━━━━━━━━━━━━━\u001b[0m\u001b[91m╸\u001b[0m\u001b[90m━━━━\u001b[0m \u001b[32m61.4/68.6 kB\u001b[0m \u001b[31m1.1 MB/s\u001b[0m eta \u001b[36m0:00:01\u001b[0m\r\u001b[2K     \u001b[90m━━━━━━━━━━━━━━━━━━━━━━━━━━━━━━━━━━━━━━━━\u001b[0m \u001b[32m68.6/68.6 kB\u001b[0m \u001b[31m789.7 kB/s\u001b[0m eta \u001b[36m0:00:00\u001b[0m\n",
            "\u001b[?25h  Preparing metadata (setup.py) ... \u001b[?25l\u001b[?25hdone\n",
            "  Building wheel for uuid (setup.py) ... \u001b[?25l\u001b[?25hdone\n"
          ]
        }
      ]
    },
    {
      "cell_type": "code",
      "source": [
        "from jovian.pythondsa import evaluate_test_case"
      ],
      "metadata": {
        "id": "RWEz6k9pIU34"
      },
      "execution_count": 24,
      "outputs": []
    },
    {
      "cell_type": "code",
      "source": [
        "evaluate_test_case(locate_card, test)"
      ],
      "metadata": {
        "colab": {
          "base_uri": "https://localhost:8080/"
        },
        "id": "xpHteuQfIiAl",
        "outputId": "e8dac3c2-fe1f-4e61-b829-a7f40131f4e6"
      },
      "execution_count": 25,
      "outputs": [
        {
          "output_type": "stream",
          "name": "stdout",
          "text": [
            "\n",
            "Input:\n",
            "{'cards': [13, 11, 10, 7, 4, 3, 1, 0], 'query': 7}\n",
            "\n",
            "Expected Output:\n",
            "3\n",
            "\n",
            "\n",
            "Actual Output:\n",
            "3\n",
            "\n",
            "Execution Time:\n",
            "0.005 ms\n",
            "\n",
            "Test Result:\n",
            "\u001b[92mPASSED\u001b[0m\n",
            "\n"
          ]
        },
        {
          "output_type": "execute_result",
          "data": {
            "text/plain": [
              "(3, True, 0.005)"
            ]
          },
          "metadata": {},
          "execution_count": 25
        }
      ]
    },
    {
      "cell_type": "code",
      "source": [
        "from jovian.pythondsa import evaluate_test_cases"
      ],
      "metadata": {
        "id": "Ig96MmddIo_Z"
      },
      "execution_count": 26,
      "outputs": []
    },
    {
      "cell_type": "code",
      "source": [
        "evaluate_test_cases(locate_card, tests)"
      ],
      "metadata": {
        "colab": {
          "base_uri": "https://localhost:8080/",
          "height": 1000
        },
        "id": "lnYG6uhPJLQe",
        "outputId": "1e7ff69c-10a2-4dd5-f686-a46ca8f80409"
      },
      "execution_count": 27,
      "outputs": [
        {
          "output_type": "stream",
          "name": "stdout",
          "text": [
            "\n",
            "\u001b[1mTEST CASE #0\u001b[0m\n",
            "\n",
            "Input:\n",
            "{'cards': [13, 11, 10, 7, 4, 3, 1, 0], 'query': 7}\n",
            "\n",
            "Expected Output:\n",
            "3\n",
            "\n",
            "\n",
            "Actual Output:\n",
            "3\n",
            "\n",
            "Execution Time:\n",
            "0.006 ms\n",
            "\n",
            "Test Result:\n",
            "\u001b[92mPASSED\u001b[0m\n",
            "\n",
            "\n",
            "\u001b[1mTEST CASE #1\u001b[0m\n",
            "\n",
            "Input:\n",
            "{'cards': [13, 11, 10, 7, 4, 3, 1, 0], 'query': 1}\n",
            "\n",
            "Expected Output:\n",
            "6\n",
            "\n",
            "\n",
            "Actual Output:\n",
            "6\n",
            "\n",
            "Execution Time:\n",
            "0.005 ms\n",
            "\n",
            "Test Result:\n",
            "\u001b[92mPASSED\u001b[0m\n",
            "\n",
            "\n",
            "\u001b[1mTEST CASE #2\u001b[0m\n",
            "\n",
            "Input:\n",
            "{'cards': [4, 2, 1, -1], 'query': 4}\n",
            "\n",
            "Expected Output:\n",
            "0\n",
            "\n",
            "\n",
            "Actual Output:\n",
            "0\n",
            "\n",
            "Execution Time:\n",
            "0.002 ms\n",
            "\n",
            "Test Result:\n",
            "\u001b[92mPASSED\u001b[0m\n",
            "\n",
            "\n",
            "\u001b[1mTEST CASE #3\u001b[0m\n",
            "\n",
            "Input:\n",
            "{'cards': [3, -1, -9, -127], 'query': -127}\n",
            "\n",
            "Expected Output:\n",
            "3\n",
            "\n",
            "\n",
            "Actual Output:\n",
            "3\n",
            "\n",
            "Execution Time:\n",
            "0.004 ms\n",
            "\n",
            "Test Result:\n",
            "\u001b[92mPASSED\u001b[0m\n",
            "\n",
            "\n",
            "\u001b[1mTEST CASE #4\u001b[0m\n",
            "\n",
            "Input:\n",
            "{'cards': [6], 'query': 6}\n",
            "\n",
            "Expected Output:\n",
            "0\n",
            "\n",
            "\n",
            "Actual Output:\n",
            "0\n",
            "\n",
            "Execution Time:\n",
            "0.002 ms\n",
            "\n",
            "Test Result:\n",
            "\u001b[92mPASSED\u001b[0m\n",
            "\n",
            "\n",
            "\u001b[1mTEST CASE #5\u001b[0m\n",
            "\n",
            "Input:\n",
            "{'cards': [9, 7, 5, 2, -9], 'query': 4}\n",
            "\n",
            "Expected Output:\n",
            "-1\n",
            "\n",
            "\n",
            "Actual Output:\n",
            "-1\n",
            "\n",
            "Execution Time:\n",
            "0.004 ms\n",
            "\n",
            "Test Result:\n",
            "\u001b[92mPASSED\u001b[0m\n",
            "\n",
            "\n",
            "\u001b[1mTEST CASE #6\u001b[0m\n"
          ]
        },
        {
          "output_type": "error",
          "ename": "IndexError",
          "evalue": "list index out of range",
          "traceback": [
            "\u001b[0;31m---------------------------------------------------------------------------\u001b[0m",
            "\u001b[0;31mIndexError\u001b[0m                                Traceback (most recent call last)",
            "\u001b[0;32m<ipython-input-27-2111dddaa84c>\u001b[0m in \u001b[0;36m<cell line: 1>\u001b[0;34m()\u001b[0m\n\u001b[0;32m----> 1\u001b[0;31m \u001b[0mevaluate_test_cases\u001b[0m\u001b[0;34m(\u001b[0m\u001b[0mlocate_card\u001b[0m\u001b[0;34m,\u001b[0m \u001b[0mtests\u001b[0m\u001b[0;34m)\u001b[0m\u001b[0;34m\u001b[0m\u001b[0;34m\u001b[0m\u001b[0m\n\u001b[0m",
            "\u001b[0;32m/usr/local/lib/python3.10/dist-packages/jovian/pythondsa/__init__.py\u001b[0m in \u001b[0;36mevaluate_test_cases\u001b[0;34m(function, test_cases, error_only, summary_only)\u001b[0m\n\u001b[1;32m     85\u001b[0m         \u001b[0;32mif\u001b[0m \u001b[0;32mnot\u001b[0m \u001b[0merror_only\u001b[0m\u001b[0;34m:\u001b[0m\u001b[0;34m\u001b[0m\u001b[0;34m\u001b[0m\u001b[0m\n\u001b[1;32m     86\u001b[0m             \u001b[0mprint\u001b[0m\u001b[0;34m(\u001b[0m\u001b[0;34m\"\\n\\033[1mTEST CASE #{}\\033[0m\"\u001b[0m\u001b[0;34m.\u001b[0m\u001b[0mformat\u001b[0m\u001b[0;34m(\u001b[0m\u001b[0mi\u001b[0m\u001b[0;34m)\u001b[0m\u001b[0;34m)\u001b[0m\u001b[0;34m\u001b[0m\u001b[0;34m\u001b[0m\u001b[0m\n\u001b[0;32m---> 87\u001b[0;31m         \u001b[0mresult\u001b[0m \u001b[0;34m=\u001b[0m \u001b[0mevaluate_test_case\u001b[0m\u001b[0;34m(\u001b[0m\u001b[0mfunction\u001b[0m\u001b[0;34m,\u001b[0m \u001b[0mtest_case\u001b[0m\u001b[0;34m,\u001b[0m \u001b[0mdisplay\u001b[0m\u001b[0;34m=\u001b[0m\u001b[0;32mFalse\u001b[0m\u001b[0;34m)\u001b[0m\u001b[0;34m\u001b[0m\u001b[0;34m\u001b[0m\u001b[0m\n\u001b[0m\u001b[1;32m     88\u001b[0m         \u001b[0mresults\u001b[0m\u001b[0;34m.\u001b[0m\u001b[0mappend\u001b[0m\u001b[0;34m(\u001b[0m\u001b[0mresult\u001b[0m\u001b[0;34m)\u001b[0m\u001b[0;34m\u001b[0m\u001b[0;34m\u001b[0m\u001b[0m\n\u001b[1;32m     89\u001b[0m         \u001b[0;32mif\u001b[0m \u001b[0merror_only\u001b[0m \u001b[0;32mand\u001b[0m \u001b[0;32mnot\u001b[0m \u001b[0mresult\u001b[0m\u001b[0;34m[\u001b[0m\u001b[0;36m1\u001b[0m\u001b[0;34m]\u001b[0m\u001b[0;34m:\u001b[0m\u001b[0;34m\u001b[0m\u001b[0;34m\u001b[0m\u001b[0m\n",
            "\u001b[0;32m/usr/local/lib/python3.10/dist-packages/jovian/pythondsa/__init__.py\u001b[0m in \u001b[0;36mevaluate_test_case\u001b[0;34m(function, test_case, display)\u001b[0m\n\u001b[1;32m     63\u001b[0m \u001b[0;34m\u001b[0m\u001b[0m\n\u001b[1;32m     64\u001b[0m     \u001b[0mstart\u001b[0m \u001b[0;34m=\u001b[0m \u001b[0mtimer\u001b[0m\u001b[0;34m(\u001b[0m\u001b[0;34m)\u001b[0m\u001b[0;34m\u001b[0m\u001b[0;34m\u001b[0m\u001b[0m\n\u001b[0;32m---> 65\u001b[0;31m     \u001b[0mactual_output\u001b[0m \u001b[0;34m=\u001b[0m \u001b[0mfunction\u001b[0m\u001b[0;34m(\u001b[0m\u001b[0;34m**\u001b[0m\u001b[0minputs\u001b[0m\u001b[0;34m)\u001b[0m\u001b[0;34m\u001b[0m\u001b[0;34m\u001b[0m\u001b[0m\n\u001b[0m\u001b[1;32m     66\u001b[0m     \u001b[0mend\u001b[0m \u001b[0;34m=\u001b[0m \u001b[0mtimer\u001b[0m\u001b[0;34m(\u001b[0m\u001b[0;34m)\u001b[0m\u001b[0;34m\u001b[0m\u001b[0;34m\u001b[0m\u001b[0m\n\u001b[1;32m     67\u001b[0m \u001b[0;34m\u001b[0m\u001b[0m\n",
            "\u001b[0;32m<ipython-input-19-3cbaa18f4128>\u001b[0m in \u001b[0;36mlocate_card\u001b[0;34m(cards, query)\u001b[0m\n\u001b[1;32m      6\u001b[0m     \u001b[0;32mwhile\u001b[0m \u001b[0;32mTrue\u001b[0m\u001b[0;34m:\u001b[0m\u001b[0;34m\u001b[0m\u001b[0;34m\u001b[0m\u001b[0m\n\u001b[1;32m      7\u001b[0m        \u001b[0;31m# Check if element at the current position matche the query\u001b[0m\u001b[0;34m\u001b[0m\u001b[0;34m\u001b[0m\u001b[0m\n\u001b[0;32m----> 8\u001b[0;31m         \u001b[0;32mif\u001b[0m \u001b[0mcards\u001b[0m\u001b[0;34m[\u001b[0m\u001b[0mposition\u001b[0m\u001b[0;34m]\u001b[0m \u001b[0;34m==\u001b[0m \u001b[0mquery\u001b[0m\u001b[0;34m:\u001b[0m\u001b[0;34m\u001b[0m\u001b[0;34m\u001b[0m\u001b[0m\n\u001b[0m\u001b[1;32m      9\u001b[0m           \u001b[0;31m# Answer found! Return and exit..\u001b[0m\u001b[0;34m\u001b[0m\u001b[0;34m\u001b[0m\u001b[0m\n\u001b[1;32m     10\u001b[0m               \u001b[0;32mreturn\u001b[0m \u001b[0mposition\u001b[0m\u001b[0;34m\u001b[0m\u001b[0;34m\u001b[0m\u001b[0m\n",
            "\u001b[0;31mIndexError\u001b[0m: list index out of range"
          ]
        }
      ]
    },
    {
      "cell_type": "code",
      "source": [
        "def locate_card(cards, query):\n",
        "    position = 0\n",
        "\n",
        "    print('cards:', cards)\n",
        "    print('query:', query)\n",
        "\n",
        "    while True:\n",
        "        print('position:', position)\n",
        "\n",
        "        if cards[position] == query:\n",
        "            return position\n",
        "\n",
        "        position += 1\n",
        "        if position == len(cards):\n",
        "            return -1"
      ],
      "metadata": {
        "id": "774RPi8SJShO"
      },
      "execution_count": null,
      "outputs": []
    },
    {
      "cell_type": "code",
      "source": [
        "cards6 = tests[6]['input']['cards']\n",
        "query6 = tests[6]['input']['query']\n",
        "\n",
        "locate_card(cards6, query6)"
      ],
      "metadata": {
        "id": "ItURvhJtKd4g"
      },
      "execution_count": null,
      "outputs": []
    },
    {
      "cell_type": "code",
      "source": [
        "def locate_card(cards, query):\n",
        "    position = 0\n",
        "    while position < len(cards):\n",
        "        if cards[position] == query:\n",
        "            return position\n",
        "        position += 1\n",
        "\n",
        "    return -1"
      ],
      "metadata": {
        "id": "eYbAFNsmSkrl"
      },
      "execution_count": null,
      "outputs": []
    },
    {
      "cell_type": "code",
      "source": [
        "tests[6]"
      ],
      "metadata": {
        "id": "4gPttdgDkjAR"
      },
      "execution_count": null,
      "outputs": []
    },
    {
      "cell_type": "code",
      "source": [
        "locate_card(cards6, query6)"
      ],
      "metadata": {
        "id": "kmFd8FOxkmJv"
      },
      "execution_count": null,
      "outputs": []
    },
    {
      "cell_type": "code",
      "source": [
        "evaluate_test_cases(locate_card, tests)"
      ],
      "metadata": {
        "id": "VO1hNQ7bk6oF"
      },
      "execution_count": null,
      "outputs": []
    },
    {
      "cell_type": "code",
      "source": [
        "!pip install jovian --upgrade --quiet"
      ],
      "metadata": {
        "id": "FyeKwdHRn33u"
      },
      "execution_count": null,
      "outputs": []
    },
    {
      "cell_type": "code",
      "source": [
        "import jovian"
      ],
      "metadata": {
        "id": "P0OH96cEn-oD"
      },
      "execution_count": null,
      "outputs": []
    },
    {
      "cell_type": "code",
      "source": [
        "jovian.commit(project='python-binary-search', environment=None)"
      ],
      "metadata": {
        "id": "cdku2RLaoBPb"
      },
      "execution_count": null,
      "outputs": []
    },
    {
      "cell_type": "code",
      "source": [
        "jovian.commit()"
      ],
      "metadata": {
        "id": "OySo3gwtoPYh"
      },
      "execution_count": null,
      "outputs": []
    },
    {
      "cell_type": "code",
      "source": [
        "def locate_card(cards, query):\n",
        "    lo, hi = 0, len(cards) - 1\n",
        "\n",
        "    while lo <= hi:\n",
        "        mid = (lo + hi) // 2\n",
        "        mid_num = cards[mid]\n",
        "\n",
        "        print(\"lo:\", lo, \"hi:\", hi, \"mid:\", mid, \"mid_num:\", mid_num)\n",
        "\n",
        "        if mid_num == query:\n",
        "            return mid\n",
        "        elif mid_num < query:\n",
        "            hi = mid-1\n",
        "        elif mid_num > query:\n",
        "            lo = mid+1\n",
        "\n",
        "    return -1"
      ],
      "metadata": {
        "id": "7XNi8asTpTEf"
      },
      "execution_count": null,
      "outputs": []
    },
    {
      "cell_type": "code",
      "source": [
        "evaluate_test_cases(locate_card, tests)"
      ],
      "metadata": {
        "id": "xhIcsQwIqWrb"
      },
      "execution_count": null,
      "outputs": []
    },
    {
      "cell_type": "code",
      "source": [
        "evaluate_test_case(locate_card, tests[8])"
      ],
      "metadata": {
        "id": "utEuGqwHqfwn"
      },
      "execution_count": null,
      "outputs": []
    },
    {
      "cell_type": "code",
      "source": [
        "cards8 = tests[8]['input']['cards']\n",
        "query8 = tests[8]['input']['cards']"
      ],
      "metadata": {
        "id": "p7dI70E5xsOi"
      },
      "execution_count": null,
      "outputs": []
    },
    {
      "cell_type": "code",
      "source": [
        "query8[7]"
      ],
      "metadata": {
        "id": "RIbtPpFqyAoQ"
      },
      "execution_count": null,
      "outputs": []
    },
    {
      "cell_type": "code",
      "source": [
        "def test_location(cards, query, mid):\n",
        "    mid_num = cards[mid]\n",
        "    print(\"mid:\", mid, \"mid_num:\", mid_num)\n",
        "    if mid_num == query:\n",
        "        if mid-1 >= 0 and cards[mid-1] == query:\n",
        "            return 'left'\n",
        "        else:\n",
        "            return 'found'\n",
        "    elif mid_num < query:\n",
        "        return 'left'\n",
        "    else:\n",
        "        return 'right'\n",
        "\n",
        "def locate_card(cards, query):\n",
        "    lo, hi = 0, len(cards) - 1\n",
        "\n",
        "    while lo <= hi:\n",
        "        print(\"lo:\", lo, \", hi:\", hi)\n",
        "        mid = (lo + hi) // 2\n",
        "        result = test_location(cards, query, mid)\n",
        "\n",
        "        if result == 'found':\n",
        "            return mid\n",
        "        elif result == 'left':\n",
        "            hi = mid - 1\n",
        "        elif result == 'right':\n",
        "            lo = mid + 1\n",
        "    return -1"
      ],
      "metadata": {
        "id": "YBGfRQTByDIV"
      },
      "execution_count": null,
      "outputs": []
    },
    {
      "cell_type": "code",
      "source": [
        "evaluate_test_case(locate_card, tests[8])"
      ],
      "metadata": {
        "id": "1EMywMiNzLWt"
      },
      "execution_count": null,
      "outputs": []
    },
    {
      "cell_type": "code",
      "source": [
        "evaluate_test_cases(locate_card, tests)"
      ],
      "metadata": {
        "id": "FDkgot71zRp_"
      },
      "execution_count": null,
      "outputs": []
    },
    {
      "cell_type": "markdown",
      "source": [
        "**Generic Binary Search**"
      ],
      "metadata": {
        "id": "C3-ffQFN0pwk"
      }
    },
    {
      "cell_type": "code",
      "source": [
        "def binary_search(lo, hi, condition):\n",
        "    \"\"\"TODO - add docs\"\"\"\n",
        "    while lo <= hi:\n",
        "        mid = (lo + hi) // 2\n",
        "        result = condition(mid)\n",
        "        if result == 'found':\n",
        "            return mid\n",
        "        elif result == 'left':\n",
        "            hi = mid - 1\n",
        "        else:\n",
        "            lo = mid + 1\n",
        "    return -1"
      ],
      "metadata": {
        "id": "tdXIkACVzfPb"
      },
      "execution_count": null,
      "outputs": []
    },
    {
      "cell_type": "code",
      "source": [
        "def locate_card(cards, query):\n",
        "    def condition(mid):\n",
        "        if cards[mid] == query:\n",
        "            if mid > 0 and cards[mid-1] == query:\n",
        "                return 'left'\n",
        "            else:\n",
        "                return 'found'\n",
        "        elif cards[mid] < query:\n",
        "            return 'left'\n",
        "        else:\n",
        "            return 'right'\n",
        "\n",
        "    return binary_search(0, len(cards) - 1, condition)\n",
        "\n"
      ],
      "metadata": {
        "id": "yV55SgSy1k4K"
      },
      "execution_count": null,
      "outputs": []
    },
    {
      "cell_type": "code",
      "source": [
        "evaluate_test_cases(locate_card, tests)"
      ],
      "metadata": {
        "id": "arb6oOWO2prm"
      },
      "execution_count": null,
      "outputs": []
    },
    {
      "cell_type": "markdown",
      "source": [
        "**Question**: Given an array of integers nums sorted in ascending order, find the starting and ending position of a given number.\n",
        "\n",
        "This differs from the problem in only two significant ways:\n",
        "\n",
        "1. The numbers are sorted in increasing order.\n",
        "2. We are looking for both the increasing order and the decreasing order."
      ],
      "metadata": {
        "id": "83LwWlxt3BdW"
      }
    },
    {
      "cell_type": "code",
      "source": [
        "def first_position(nums, target):\n",
        "    def condition(mid):\n",
        "        if nums[mid] == target:\n",
        "            if mid > 0 and nums[mid-1] == target:\n",
        "                return 'left'\n",
        "            return 'found'\n",
        "        elif nums[mid] < target:\n",
        "            return 'right'\n",
        "        else:\n",
        "            return 'left'\n",
        "    return binary_search(0, len(nums)-1, condition)\n",
        "def last_position(nums, target):\n",
        "    def condition(mid):\n",
        "        if nums[mid] == target:\n",
        "            if mid < len(nums)-1 and nums[mid+1] == target:\n",
        "                return 'right'\n",
        "            return 'found'\n",
        "        elif nums[mid] < target:\n",
        "            return 'right'\n",
        "        else:\n",
        "            return 'left'\n",
        "    return binary_search(0, len(nums)-1, condition)\n",
        "\n",
        "def first_and_last_position(nums, target):\n",
        "    return first_position(nums, target), last_position(nums, target)"
      ],
      "metadata": {
        "id": "3m2vkETk2tVN"
      },
      "execution_count": null,
      "outputs": []
    },
    {
      "cell_type": "code",
      "source": [
        "nums = [5,7,7,8,8,10]\n",
        "target = 8\n",
        "first_and_last_position(nums, target)"
      ],
      "metadata": {
        "id": "UCKmSAr83rtW"
      },
      "execution_count": null,
      "outputs": []
    },
    {
      "cell_type": "code",
      "source": [],
      "metadata": {
        "id": "8N2HTTBE4Hh8"
      },
      "execution_count": null,
      "outputs": []
    }
  ]
}